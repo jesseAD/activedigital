{
 "cells": [
  {
   "cell_type": "code",
   "execution_count": null,
   "metadata": {},
   "outputs": [
    {
     "ename": "",
     "evalue": "",
     "output_type": "error",
     "traceback": [
      "\u001b[1;31mFailed to start the Kernel. \n",
      "\u001b[1;31mException in thread IOPub:\n",
      "\u001b[1;31mTraceback (most recent call last):\n",
      "\u001b[1;31m  File \"C:\\Users\\don\\AppData\\Local\\Programs\\Python\\Python311\\Lib\\threading.py\", line 1045, in _bootstrap_inner\n",
      "\u001b[1;31m    self.run()\n",
      "\u001b[1;31m  File \"C:\\Users\\don\\AppData\\Local\\Programs\\Python\\Python311\\Lib\\threading.py\", line 982, in run\n",
      "\u001b[1;31m    self._target(*self._args, **self._kwargs)\n",
      "\u001b[1;31m  File \"e:\\Works\\account-management-service\\.venv\\Lib\\site-packages\\ipykernel\\iostream.py\", line 87, in _thread_main\n",
      "\u001b[1;31m    self.io_loop.run_sync(_start_event_gc)\n",
      "\u001b[1;31m  File \"e:\\Works\\account-management-service\\.venv\\Lib\\site-packages\\tornado\\ioloop.py\", line 533, in run_sync\n",
      "\u001b[1;31m    self.start()\n",
      "\u001b[1;31m  File \"e:\\Works\\account-management-service\\.venv\\Lib\\site-packages\\tornado\\platform\\asyncio.py\", line 205, in start\n",
      "\u001b[1;31m    self.asyncio_loop.run_forever()\n",
      "\u001b[1;31m  File \"C:\\Users\\don\\AppData\\Local\\Programs\\Python\\Python311\\Lib\\asyncio\\base_events.py\", line 608, in run_forever\n",
      "\u001b[1;31m    self._run_once()\n",
      "\u001b[1;31m  File \"C:\\Users\\don\\AppData\\Local\\Programs\\Python\\Python311\\Lib\\asyncio\\base_events.py\", line 1898, in _run_once\n",
      "\u001b[1;31m    event_list = self._selector.select(timeout)\n",
      "\u001b[1;31m                 ^^^^^^^^^^^^^^^^^^^^^^^^^^^^^^\n",
      "\u001b[1;31m  File \"C:\\Users\\don\\AppData\\Local\\Programs\\Python\\Python311\\Lib\\selectors.py\", line 323, in select\n",
      "\u001b[1;31m    r, w, _ = self._select(self._readers, self._writers, [], timeout)\n",
      "\u001b[1;31m              ^^^^^^^^^^^^^^^^^^^^^^^^^^^^^^^^^^^^^^^^^^^^^^^^^^^^^^^\n",
      "\u001b[1;31m  File \"C:\\Users\\don\\AppData\\Local\\Programs\\Python\\Python311\\Lib\\selectors.py\", line 314, in _select\n",
      "\u001b[1;31m    r, w, x = select.select(r, w, w, timeout)\n",
      "\u001b[1;31m              ^^^^^^^^^^^^^^^^^^^^^^^^^^^^^^^\n",
      "\u001b[1;31mOSError: [WinError 10038] An operation was attempted on something that is not a socket\n",
      "\u001b[1;31mTraceback (most recent call last):\n",
      "\u001b[1;31m  File \"<frozen runpy>\", line 198, in _run_module_as_main\n",
      "\u001b[1;31m  File \"<frozen runpy>\", line 88, in _run_code\n",
      "\u001b[1;31m  File \"e:\\Works\\account-management-service\\.venv\\Lib\\site-packages\\ipykernel_launcher.py\", line 18, in <module>\n",
      "\u001b[1;31m    app.launch_new_instance()\n",
      "\u001b[1;31m  File \"e:\\Works\\account-management-service\\.venv\\Lib\\site-packages\\traitlets\\config\\application.py\", line 1075, in launch_instance\n",
      "\u001b[1;31m    app.start()\n",
      "\u001b[1;31m  File \"e:\\Works\\account-management-service\\.venv\\Lib\\site-packages\\ipykernel\\kernelapp.py\", line 726, in start\n",
      "\u001b[1;31m    self.kernel.start()\n",
      "\u001b[1;31m  File \"e:\\Works\\account-management-service\\.venv\\Lib\\site-packages\\ipykernel\\ipkernel.py\", line 240, in start\n",
      "\u001b[1;31m    super().start()\n",
      "\u001b[1;31m  File \"e:\\Works\\account-management-service\\.venv\\Lib\\site-packages\\ipykernel\\kernelbase.py\", line 583, in start\n",
      "\u001b[1;31m    asyncio.run_coroutine_threadsafe(self.poll_control_queue(), control_loop.asyncio_loop)\n",
      "\u001b[1;31m  File \"C:\\Users\\don\\AppData\\Local\\Programs\\Python\\Python311\\Lib\\asyncio\\tasks.py\", line 936, in run_coroutine_threadsafe\n",
      "\u001b[1;31m    loop.call_soon_threadsafe(callback)\n",
      "\u001b[1;31m  File \"C:\\Users\\don\\AppData\\Local\\Programs\\Python\\Python311\\Lib\\asyncio\\base_events.py\", line 807, in call_soon_threadsafe\n",
      "\u001b[1;31m    self._check_closed()\n",
      "\u001b[1;31m  File \"C:\\Users\\don\\AppData\\Local\\Programs\\Python\\Python311\\Lib\\asyncio\\base_events.py\", line 520, in _check_closed\n",
      "\u001b[1;31m    raise RuntimeError('Event loop is closed')\n",
      "\u001b[1;31mRuntimeError: Event loop is closed\n",
      "\u001b[1;31mIOStream.flush timed out. \n",
      "\u001b[1;31mView Jupyter <a href='command:jupyter.viewOutput'>log</a> for further details."
     ]
    }
   ],
   "source": [
    "from pymongo import MongoClient\n",
    "from datetime import datetime, timezone\n",
    "\n",
    "mongdb_pwd = \"8EnNmGsai9pD0gxq\"\n",
    "mongo_uri = 'mongodb+srv://activedigital:' + mongdb_pwd + '@mongodbcluster.nzphth1.mongodb.net/?retryWrites=true&w=majority'\n",
    "db = MongoClient(mongo_uri)['active_digital']\n",
    "balances_db = db['balances']\n",
    "\n",
    "balances_db.insert_one({\n",
    "  'client': \"galileo\",\n",
    "  'venue': \"bybit\",\n",
    "  'account': \"subbasis1\",\n",
    "  'balance_value': {\n",
    "    'base': 125000\n",
    "  },\n",
    "  'repayments': {},\n",
    "  'loan_pools': {},\n",
    "  'balance_change': 0,\n",
    "  'collateral': 0,\n",
    "  'base_ccy': \"USDT\",\n",
    "  'timestamp': datetime.strptime(\"2024-05-24T04:00:00.000Z\", \"%Y-%m-%dT%H:%M:%S.%fZ\"),\n",
    "  'runid': 0\n",
    "})"
   ]
  }
 ],
 "metadata": {
  "kernelspec": {
   "display_name": ".venv",
   "language": "python",
   "name": "python3"
  },
  "language_info": {
   "codemirror_mode": {
    "name": "ipython",
    "version": 3
   },
   "file_extension": ".py",
   "mimetype": "text/x-python",
   "name": "python",
   "nbconvert_exporter": "python",
   "pygments_lexer": "ipython3",
   "version": "3.11.8"
  }
 },
 "nbformat": 4,
 "nbformat_minor": 2
}
