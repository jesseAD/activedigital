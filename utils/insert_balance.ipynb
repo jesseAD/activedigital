{
 "cells": [
  {
   "cell_type": "code",
   "execution_count": 4,
   "metadata": {},
   "outputs": [
    {
     "data": {
      "text/plain": [
       "<pymongo.results.InsertOneResult at 0x19f26e02080>"
      ]
     },
     "execution_count": 4,
     "metadata": {},
     "output_type": "execute_result"
    }
   ],
   "source": [
    "from pymongo import MongoClient\n",
    "from datetime import datetime, timezone\n",
    "\n",
    "mongdb_pwd = \"\"\n",
    "mongo_uri = 'mongodb+srv://activedigital:' + mongdb_pwd + '@mongodbcluster.nzphth1.mongodb.net/?retryWrites=true&w=majority'\n",
    "db = MongoClient(mongo_uri)['active_digital']\n",
    "balances_db = db['balances']\n",
    "\n",
    "balances_db.insert_one({\n",
    "  'client': \"galileo\",\n",
    "  'venue': \"bybit\",\n",
    "  'account': \"subbasis1\",\n",
    "  'balance_value': {\n",
    "    'base': 125000\n",
    "  },\n",
    "  'repayments': {},\n",
    "  'loan_pools': {},\n",
    "  'balance_change': 0,\n",
    "  'collateral': 0,\n",
    "  'base_ccy': \"USDT\",\n",
    "  'timestamp': datetime.strptime(\"2024-05-24T12:19:00.000Z\", \"%Y-%m-%dT%H:%M:%S.%fZ\"),\n",
    "  'runid': 0\n",
    "})\n",
    "# print(datetime.strptime(\"2024-05-24T12:19:00.000Z\", \"%Y-%m-%dT%H:%M:%S.%fZ\"))"
   ]
  }
 ],
 "metadata": {
  "kernelspec": {
   "display_name": ".venv",
   "language": "python",
   "name": "python3"
  },
  "language_info": {
   "codemirror_mode": {
    "name": "ipython",
    "version": 3
   },
   "file_extension": ".py",
   "mimetype": "text/x-python",
   "name": "python",
   "nbconvert_exporter": "python",
   "pygments_lexer": "ipython3",
   "version": "3.11.8"
  }
 },
 "nbformat": 4,
 "nbformat_minor": 2
}
